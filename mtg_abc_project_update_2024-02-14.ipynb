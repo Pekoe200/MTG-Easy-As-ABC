{
 "cells": [
  {
   "cell_type": "markdown",
   "metadata": {},
   "source": [
    "# MTG, Easy as A.B.C.\n",
    "*By Anthony Broussard, Brandon Pimentel, and Charles Zieres*"
   ]
  },
  {
   "cell_type": "markdown",
   "metadata": {},
   "source": [
    "Our team is using the data from Magic: the Gathering API \"MTGJson\". We will develop a predictive model that estimates the win probability of a Magic: the Gathering (MTG) deck in tournaments. We will utilize the deck's total price as a primary feature. In this project, we aim to understand the relationship between deck price and performance, in order to gauge the extent to which monetary investment has an impact on success chances."
   ]
  }
 ],
 "metadata": {
  "language_info": {
   "name": "python"
  }
 },
 "nbformat": 4,
 "nbformat_minor": 2
}
