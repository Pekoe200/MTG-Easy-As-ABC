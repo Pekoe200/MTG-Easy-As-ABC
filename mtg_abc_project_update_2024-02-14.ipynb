{
  "cells": [
    {
      "cell_type": "markdown",
      "metadata": {
        "id": "1LjzB3apEoQZ"
      },
      "source": [
        "# MTG, Easy as A.B.C.\n",
        "*By Anthony Broussard, Brandon Pimentel, and Charles Zieres*"
      ]
    },
    {
      "cell_type": "markdown",
      "metadata": {
        "id": "zPnc95fvEoQc"
      },
      "source": [
        "Our team is using the data from a Magic: the Gathering (MTG) dataset available [HERE](https://www.kaggle.com/datasets/camilonunez/magic-the-gathering-top8-some-decks-and-events/data)\n",
        "\n",
        "We will develop a predictive model that estimates the win probability of a given deck in tournaments utilizing the deck's total price as a primary feature. In this project, we aim to understand the relationship between deck price and performance, in order to gauge the extent to which monetary investment has an impact on success chances."
      ]
    },
    {
      "cell_type": "markdown",
      "metadata": {
        "id": "Kj8XV4x2EoQd"
      },
      "source": [
        "**Environment setup:**"
      ]
    },
    {
      "cell_type": "code",
      "execution_count": null,
      "metadata": {
        "colab": {
          "base_uri": "https://localhost:8080/",
          "height": 311
        },
        "id": "uovxyza8EoQe",
        "outputId": "86abd190-44d1-458a-c321-c87500801869"
      },
      "outputs": [],
      "source": [
        "import numpy as np\n",
        "import pandas as pd\n",
        "from sklearn.model_selection import train_test_split\n",
        "from sklearn.preprocessing import StandardScaler\n",
        "from sklearn.neighbors import KNeighborsRegressor\n",
        "import matplotlib.pyplot as plt\n",
        "\n",
        "\n",
        "\n",
        "\n"
      ]
    },
    {
      "cell_type": "code",
      "execution_count": null,
      "metadata": {},
      "outputs": [],
      "source": [
        "# Data Import from Local Repository\n",
        "\n",
        "df_prices = pd.read_csv('./data/cardPrices.csv')\n",
        "df_cards = pd.read_csv('./data/cards.csv')"
      ]
    },
    {
      "cell_type": "markdown",
      "metadata": {
        "id": "ZTsWDuhLEoQf"
      },
      "source": [
        "**Preprocessing:**"
      ]
    },
    {
      "cell_type": "code",
      "execution_count": null,
      "metadata": {
        "id": "SsevNo8wEoQg"
      },
      "outputs": [],
      "source": []
    },
    {
      "cell_type": "markdown",
      "metadata": {
        "id": "2RBbtlNqEoQi"
      },
      "source": [
        "**Exploration & visualization:**"
      ]
    },
    {
      "cell_type": "code",
      "execution_count": 6,
      "metadata": {},
      "outputs": [
        {
          "name": "stdout",
          "output_type": "stream",
          "text": [
            "<class 'pandas.core.frame.DataFrame'>\n",
            "RangeIndex: 89611 entries, 0 to 89610\n",
            "Data columns (total 78 columns):\n",
            " #   Column                   Non-Null Count  Dtype  \n",
            "---  ------                   --------------  -----  \n",
            " 0   artist                   89602 non-null  object \n",
            " 1   artistIds                89602 non-null  object \n",
            " 2   asciiName                217 non-null    object \n",
            " 3   attractionLights         135 non-null    object \n",
            " 4   availability             89611 non-null  object \n",
            " 5   boosterTypes             48416 non-null  object \n",
            " 6   borderColor              89611 non-null  object \n",
            " 7   cardParts                18 non-null     object \n",
            " 8   colorIdentity            79757 non-null  object \n",
            " 9   colorIndicator           792 non-null    object \n",
            " 10  colors                   70287 non-null  object \n",
            " 11  defense                  52 non-null     float64\n",
            " 12  duelDeck                 1594 non-null   object \n",
            " 13  edhrecRank               82651 non-null  float64\n",
            " 14  edhrecSaltiness          67213 non-null  float64\n",
            " 15  faceConvertedManaCost    3369 non-null   float64\n",
            " 16  faceFlavorName           20 non-null     object \n",
            " 17  faceManaValue            3369 non-null   float64\n",
            " 18  faceName                 3531 non-null   object \n",
            " 19  finishes                 89611 non-null  object \n",
            " 20  flavorName               241 non-null    object \n",
            " 21  flavorText               44713 non-null  object \n",
            " 22  frameEffects             13486 non-null  object \n",
            " 23  frameVersion             89611 non-null  object \n",
            " 24  hand                     119 non-null    float64\n",
            " 25  hasAlternativeDeckLimit  60 non-null     object \n",
            " 26  hasContentWarning        29 non-null     object \n",
            " 27  hasFoil                  89611 non-null  bool   \n",
            " 28  hasNonFoil               89611 non-null  bool   \n",
            " 29  isAlternative            5487 non-null   object \n",
            " 30  isFullArt                1715 non-null   object \n",
            " 31  isFunny                  1331 non-null   object \n",
            " 32  isOnlineOnly             8505 non-null   object \n",
            " 33  isOversized              619 non-null    object \n",
            " 34  isPromo                  10403 non-null  object \n",
            " 35  isRebalanced             227 non-null    object \n",
            " 36  isReprint                54472 non-null  object \n",
            " 37  isReserved               1470 non-null   object \n",
            " 38  isStarter                27905 non-null  object \n",
            " 39  isStorySpotlight         343 non-null    object \n",
            " 40  isTextless               174 non-null    object \n",
            " 41  isTimeshifted            223 non-null    object \n",
            " 42  keywords                 36495 non-null  object \n",
            " 43  language                 89611 non-null  object \n",
            " 44  layout                   89611 non-null  object \n",
            " 45  leadershipSkills         9741 non-null   object \n",
            " 46  life                     119 non-null    float64\n",
            " 47  loyalty                  1445 non-null   object \n",
            " 48  manaCost                 77857 non-null  object \n",
            " 49  manaValue                89611 non-null  float64\n",
            " 50  name                     89611 non-null  object \n",
            " 51  number                   89611 non-null  object \n",
            " 52  originalPrintings        227 non-null    object \n",
            " 53  originalReleaseDate      9393 non-null   object \n",
            " 54  originalText             52867 non-null  object \n",
            " 55  originalType             53966 non-null  object \n",
            " 56  otherFaceIds             3531 non-null   object \n",
            " 57  power                    42677 non-null  object \n",
            " 58  printings                89611 non-null  object \n",
            " 59  promoTypes               16426 non-null  object \n",
            " 60  rarity                   89611 non-null  object \n",
            " 61  rebalancedPrintings      345 non-null    object \n",
            " 62  relatedCards             43 non-null     object \n",
            " 63  securityStamp            29794 non-null  object \n",
            " 64  setCode                  89611 non-null  object \n",
            " 65  side                     3531 non-null   object \n",
            " 66  signature                1244 non-null   object \n",
            " 67  sourceProducts           69471 non-null  object \n",
            " 68  subsets                  972 non-null    object \n",
            " 69  subtypes                 55328 non-null  object \n",
            " 70  supertypes               15653 non-null  object \n",
            " 71  text                     88522 non-null  object \n",
            " 72  toughness                42677 non-null  object \n",
            " 73  type                     89611 non-null  object \n",
            " 74  types                    89611 non-null  object \n",
            " 75  uuid                     89611 non-null  object \n",
            " 76  variations               26648 non-null  object \n",
            " 77  watermark                6481 non-null   object \n",
            "dtypes: bool(2), float64(8), object(68)\n",
            "memory usage: 52.1+ MB\n"
          ]
        },
        {
          "data": {
            "text/html": [
              "<div>\n",
              "<style scoped>\n",
              "    .dataframe tbody tr th:only-of-type {\n",
              "        vertical-align: middle;\n",
              "    }\n",
              "\n",
              "    .dataframe tbody tr th {\n",
              "        vertical-align: top;\n",
              "    }\n",
              "\n",
              "    .dataframe thead th {\n",
              "        text-align: right;\n",
              "    }\n",
              "</style>\n",
              "<table border=\"1\" class=\"dataframe\">\n",
              "  <thead>\n",
              "    <tr style=\"text-align: right;\">\n",
              "      <th></th>\n",
              "      <th>defense</th>\n",
              "      <th>edhrecRank</th>\n",
              "      <th>edhrecSaltiness</th>\n",
              "      <th>faceConvertedManaCost</th>\n",
              "      <th>faceManaValue</th>\n",
              "      <th>hand</th>\n",
              "      <th>life</th>\n",
              "      <th>manaValue</th>\n",
              "    </tr>\n",
              "  </thead>\n",
              "  <tbody>\n",
              "    <tr>\n",
              "      <th>count</th>\n",
              "      <td>52.000000</td>\n",
              "      <td>82651.000000</td>\n",
              "      <td>67213.000000</td>\n",
              "      <td>3369.000000</td>\n",
              "      <td>3369.000000</td>\n",
              "      <td>119.000000</td>\n",
              "      <td>119.000000</td>\n",
              "      <td>89611.000000</td>\n",
              "    </tr>\n",
              "    <tr>\n",
              "      <th>mean</th>\n",
              "      <td>4.634615</td>\n",
              "      <td>10029.261582</td>\n",
              "      <td>0.333075</td>\n",
              "      <td>2.232710</td>\n",
              "      <td>2.232710</td>\n",
              "      <td>0.084034</td>\n",
              "      <td>1.084034</td>\n",
              "      <td>25.319286</td>\n",
              "    </tr>\n",
              "    <tr>\n",
              "      <th>std</th>\n",
              "      <td>1.010316</td>\n",
              "      <td>7862.083733</td>\n",
              "      <td>0.328288</td>\n",
              "      <td>2.000858</td>\n",
              "      <td>2.000858</td>\n",
              "      <td>1.211385</td>\n",
              "      <td>5.683130</td>\n",
              "      <td>4724.225807</td>\n",
              "    </tr>\n",
              "    <tr>\n",
              "      <th>min</th>\n",
              "      <td>3.000000</td>\n",
              "      <td>1.000000</td>\n",
              "      <td>0.010000</td>\n",
              "      <td>0.000000</td>\n",
              "      <td>0.000000</td>\n",
              "      <td>-4.000000</td>\n",
              "      <td>-8.000000</td>\n",
              "      <td>0.000000</td>\n",
              "    </tr>\n",
              "    <tr>\n",
              "      <th>25%</th>\n",
              "      <td>4.000000</td>\n",
              "      <td>2881.000000</td>\n",
              "      <td>0.120000</td>\n",
              "      <td>0.000000</td>\n",
              "      <td>0.000000</td>\n",
              "      <td>-1.000000</td>\n",
              "      <td>-3.000000</td>\n",
              "      <td>2.000000</td>\n",
              "    </tr>\n",
              "    <tr>\n",
              "      <th>50%</th>\n",
              "      <td>4.000000</td>\n",
              "      <td>8527.000000</td>\n",
              "      <td>0.240000</td>\n",
              "      <td>2.000000</td>\n",
              "      <td>2.000000</td>\n",
              "      <td>0.000000</td>\n",
              "      <td>0.000000</td>\n",
              "      <td>3.000000</td>\n",
              "    </tr>\n",
              "    <tr>\n",
              "      <th>75%</th>\n",
              "      <td>5.000000</td>\n",
              "      <td>16430.500000</td>\n",
              "      <td>0.410000</td>\n",
              "      <td>3.000000</td>\n",
              "      <td>3.000000</td>\n",
              "      <td>1.000000</td>\n",
              "      <td>4.000000</td>\n",
              "      <td>4.000000</td>\n",
              "    </tr>\n",
              "    <tr>\n",
              "      <th>max</th>\n",
              "      <td>7.000000</td>\n",
              "      <td>26570.000000</td>\n",
              "      <td>2.990000</td>\n",
              "      <td>11.000000</td>\n",
              "      <td>11.000000</td>\n",
              "      <td>3.000000</td>\n",
              "      <td>30.000000</td>\n",
              "      <td>1000000.000000</td>\n",
              "    </tr>\n",
              "  </tbody>\n",
              "</table>\n",
              "</div>"
            ],
            "text/plain": [
              "         defense    edhrecRank  edhrecSaltiness  faceConvertedManaCost  \\\n",
              "count  52.000000  82651.000000     67213.000000            3369.000000   \n",
              "mean    4.634615  10029.261582         0.333075               2.232710   \n",
              "std     1.010316   7862.083733         0.328288               2.000858   \n",
              "min     3.000000      1.000000         0.010000               0.000000   \n",
              "25%     4.000000   2881.000000         0.120000               0.000000   \n",
              "50%     4.000000   8527.000000         0.240000               2.000000   \n",
              "75%     5.000000  16430.500000         0.410000               3.000000   \n",
              "max     7.000000  26570.000000         2.990000              11.000000   \n",
              "\n",
              "       faceManaValue        hand        life       manaValue  \n",
              "count    3369.000000  119.000000  119.000000    89611.000000  \n",
              "mean        2.232710    0.084034    1.084034       25.319286  \n",
              "std         2.000858    1.211385    5.683130     4724.225807  \n",
              "min         0.000000   -4.000000   -8.000000        0.000000  \n",
              "25%         0.000000   -1.000000   -3.000000        2.000000  \n",
              "50%         2.000000    0.000000    0.000000        3.000000  \n",
              "75%         3.000000    1.000000    4.000000        4.000000  \n",
              "max        11.000000    3.000000   30.000000  1000000.000000  "
            ]
          },
          "execution_count": 6,
          "metadata": {},
          "output_type": "execute_result"
        }
      ],
      "source": [
        "# Get general info about current datasets\n",
        "\n",
        "df_cards.info()\n",
        "df_cards.describe()"
      ]
    },
    {
      "cell_type": "code",
      "execution_count": 7,
      "metadata": {
        "id": "vJ0FGow7EoQi"
      },
      "outputs": [
        {
          "data": {
            "image/png": "[encoded data removed]",
            "text/plain": [
              "<Figure size 640x480 with 1 Axes>"
            ]
          },
          "metadata": {},
          "output_type": "display_data"
        }
      ],
      "source": [
        "# Display artists total worth for each unique card designed\n",
        "\n",
        "df_comb = pd.merge(df_cards, df_prices, on='uuid')\n",
        "\n",
        "df_comb.groupby(['artist']).price.sum().sort_values(ascending=False)\n",
        "\n",
        "artVal = df_comb.groupby(['artist']).price.sum().sort_values(ascending=False)\n",
        "\n",
        "plt.plot(artVal[:5])\n",
        "plt.show()"
      ]
    },
    {
      "cell_type": "markdown",
      "metadata": {
        "id": "vQ9cAwRSEoQj"
      },
      "source": [
        "**Machine Learning Prep:**"
      ]
    },
    {
      "cell_type": "code",
      "execution_count": null,
      "metadata": {
        "id": "kk1TdEZdEoQl"
      },
      "outputs": [],
      "source": []
    }
  ],
  "metadata": {
    "colab": {
      "provenance": []
    },
    "kernelspec": {
      "display_name": "Python 3",
      "name": "python3"
    },
    "language_info": {
      "codemirror_mode": {
        "name": "ipython",
        "version": 3
      },
      "file_extension": ".py",
      "mimetype": "text/x-python",
      "name": "python",
      "nbconvert_exporter": "python",
      "pygments_lexer": "ipython3",
      "version": "3.9.13"
    }
  },
  "nbformat": 4,
  "nbformat_minor": 0
}
