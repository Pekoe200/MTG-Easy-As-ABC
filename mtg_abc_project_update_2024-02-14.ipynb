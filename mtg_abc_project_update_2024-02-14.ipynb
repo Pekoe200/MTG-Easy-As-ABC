{
 "cells": [
  {
   "cell_type": "markdown",
   "metadata": {
    "id": "1LjzB3apEoQZ"
   },
   "source": [
    "# MTG, Easy as A.B.C.\n",
    "*By Anthony Broussard, Brandon Pimentel, and Charles Zieres*"
   ]
  },
  {
   "cell_type": "markdown",
   "metadata": {
    "id": "zPnc95fvEoQc"
   },
   "source": [
    "Our team is using the data from a Magic: the Gathering (MTG) dataset available [HERE](https://www.kaggle.com/datasets/camilonunez/magic-the-gathering-top8-some-decks-and-events/data)\n",
    "\n",
    "We will develop a predictive model that estimates the win probability of a given deck in tournaments utilizing the deck's total price as a primary feature. In this project, we aim to understand the relationship between deck price and performance, in order to gauge the extent to which monetary investment has an impact on success chances."
   ]
  },
  {
   "cell_type": "markdown",
   "metadata": {
    "id": "Kj8XV4x2EoQd"
   },
   "source": [
    "**Environment setup:**"
   ]
  },
  {
   "cell_type": "code",
   "execution_count": 14,
   "metadata": {
    "colab": {
     "base_uri": "https://localhost:8080/",
     "height": 311
    },
    "id": "uovxyza8EoQe",
    "outputId": "86abd190-44d1-458a-c321-c87500801869"
   },
   "outputs": [],
   "source": [
    "import numpy as np\n",
    "import pandas as pd\n",
    "from sklearn.model_selection import train_test_split\n",
    "from sklearn.preprocessing import StandardScaler\n",
    "from sklearn.neighbors import KNeighborsRegressor\n",
    "import matplotlib.pyplot as plt"
   ]
  },
  {
   "cell_type": "markdown",
   "metadata": {
    "id": "ZTsWDuhLEoQf"
   },
   "source": [
    "**Preprocessing:**"
   ]
  },
  {
   "cell_type": "code",
   "execution_count": 28,
   "metadata": {
    "id": "SsevNo8wEoQg"
   },
   "outputs": [
    {
     "name": "stderr",
     "output_type": "stream",
     "text": [
      "C:\\Users\\Brandon\\AppData\\Local\\Packages\\PythonSoftwareFoundation.Python.3.9_qbz5n2kfra8p0\\LocalCache\\local-packages\\Python39\\site-packages\\IPython\\core\\interactiveshell.py:3550: DtypeWarning: Columns (3,7,12,16,20,23,25,26,30,31,32,33,35,39,40,41,47,52,53,61,62,66,68) have mixed types.Specify dtype option on import or set low_memory=False.\n",
      "  exec(code_obj, self.user_global_ns, self.user_ns)\n"
     ]
    }
   ],
   "source": [
    "# Read the cards and price information\n",
    "df_prices = pd.read_csv('data/cardPrices.csv')\n",
    "df_cards = pd.read_csv('data/cards.csv')\n",
    "\n",
    "filtered_cards = df_cards[['name', 'artist', 'setCode', 'rarity', 'type', 'uuid']]\n",
    "\n",
    "#combining the cards and pricing information into a single dataframe\n",
    "df_comb = pd.merge(filtered_cards, df_prices, on='uuid')"
   ]
  },
  {
   "cell_type": "markdown",
   "metadata": {
    "id": "2RBbtlNqEoQi"
   },
   "source": [
    "**Exploration & visualization:**"
   ]
  },
  {
   "cell_type": "code",
   "execution_count": 35,
   "metadata": {
    "id": "vJ0FGow7EoQi"
   },
   "outputs": [
    {
     "name": "stdout",
     "output_type": "stream",
     "text": [
      "<class 'pandas.core.frame.DataFrame'>\n",
      "RangeIndex: 515809 entries, 0 to 515808\n",
      "Data columns (total 8 columns):\n",
      " #   Column            Non-Null Count   Dtype  \n",
      "---  ------            --------------   -----  \n",
      " 0   cardFinish        515809 non-null  object \n",
      " 1   currency          515809 non-null  object \n",
      " 2   date              515809 non-null  object \n",
      " 3   gameAvailability  515809 non-null  object \n",
      " 4   price             515809 non-null  float64\n",
      " 5   priceProvider     515809 non-null  object \n",
      " 6   providerListing   515809 non-null  object \n",
      " 7   uuid              515809 non-null  object \n",
      "dtypes: float64(1), object(7)\n",
      "memory usage: 31.5+ MB\n",
      "<class 'pandas.core.frame.DataFrame'>\n",
      "RangeIndex: 89611 entries, 0 to 89610\n",
      "Data columns (total 78 columns):\n",
      " #   Column                   Non-Null Count  Dtype  \n",
      "---  ------                   --------------  -----  \n",
      " 0   artist                   89602 non-null  object \n",
      " 1   artistIds                89602 non-null  object \n",
      " 2   asciiName                217 non-null    object \n",
      " 3   attractionLights         135 non-null    object \n",
      " 4   availability             89611 non-null  object \n",
      " 5   boosterTypes             48416 non-null  object \n",
      " 6   borderColor              89611 non-null  object \n",
      " 7   cardParts                18 non-null     object \n",
      " 8   colorIdentity            79757 non-null  object \n",
      " 9   colorIndicator           792 non-null    object \n",
      " 10  colors                   70287 non-null  object \n",
      " 11  defense                  52 non-null     float64\n",
      " 12  duelDeck                 1594 non-null   object \n",
      " 13  edhrecRank               82651 non-null  float64\n",
      " 14  edhrecSaltiness          67213 non-null  float64\n",
      " 15  faceConvertedManaCost    3369 non-null   float64\n",
      " 16  faceFlavorName           20 non-null     object \n",
      " 17  faceManaValue            3369 non-null   float64\n",
      " 18  faceName                 3531 non-null   object \n",
      " 19  finishes                 89611 non-null  object \n",
      " 20  flavorName               241 non-null    object \n",
      " 21  flavorText               44713 non-null  object \n",
      " 22  frameEffects             13486 non-null  object \n",
      " 23  frameVersion             89611 non-null  object \n",
      " 24  hand                     119 non-null    float64\n",
      " 25  hasAlternativeDeckLimit  60 non-null     object \n",
      " 26  hasContentWarning        29 non-null     object \n",
      " 27  hasFoil                  89611 non-null  bool   \n",
      " 28  hasNonFoil               89611 non-null  bool   \n",
      " 29  isAlternative            5487 non-null   object \n",
      " 30  isFullArt                1715 non-null   object \n",
      " 31  isFunny                  1331 non-null   object \n",
      " 32  isOnlineOnly             8505 non-null   object \n",
      " 33  isOversized              619 non-null    object \n",
      " 34  isPromo                  10403 non-null  object \n",
      " 35  isRebalanced             227 non-null    object \n",
      " 36  isReprint                54472 non-null  object \n",
      " 37  isReserved               1470 non-null   object \n",
      " 38  isStarter                27905 non-null  object \n",
      " 39  isStorySpotlight         343 non-null    object \n",
      " 40  isTextless               174 non-null    object \n",
      " 41  isTimeshifted            223 non-null    object \n",
      " 42  keywords                 36495 non-null  object \n",
      " 43  language                 89611 non-null  object \n",
      " 44  layout                   89611 non-null  object \n",
      " 45  leadershipSkills         9741 non-null   object \n",
      " 46  life                     119 non-null    float64\n",
      " 47  loyalty                  1445 non-null   object \n",
      " 48  manaCost                 77857 non-null  object \n",
      " 49  manaValue                89611 non-null  float64\n",
      " 50  name                     89611 non-null  object \n",
      " 51  number                   89611 non-null  object \n",
      " 52  originalPrintings        227 non-null    object \n",
      " 53  originalReleaseDate      9393 non-null   object \n",
      " 54  originalText             52867 non-null  object \n",
      " 55  originalType             53966 non-null  object \n",
      " 56  otherFaceIds             3531 non-null   object \n",
      " 57  power                    42677 non-null  object \n",
      " 58  printings                89611 non-null  object \n",
      " 59  promoTypes               16426 non-null  object \n",
      " 60  rarity                   89611 non-null  object \n",
      " 61  rebalancedPrintings      345 non-null    object \n",
      " 62  relatedCards             43 non-null     object \n",
      " 63  securityStamp            29794 non-null  object \n",
      " 64  setCode                  89611 non-null  object \n",
      " 65  side                     3531 non-null   object \n",
      " 66  signature                1244 non-null   object \n",
      " 67  sourceProducts           69471 non-null  object \n",
      " 68  subsets                  972 non-null    object \n",
      " 69  subtypes                 55328 non-null  object \n",
      " 70  supertypes               15653 non-null  object \n",
      " 71  text                     88522 non-null  object \n",
      " 72  toughness                42677 non-null  object \n",
      " 73  type                     89611 non-null  object \n",
      " 74  types                    89611 non-null  object \n",
      " 75  uuid                     89611 non-null  object \n",
      " 76  variations               26648 non-null  object \n",
      " 77  watermark                6481 non-null   object \n",
      "dtypes: bool(2), float64(8), object(68)\n",
      "memory usage: 52.1+ MB\n",
      "<class 'pandas.core.frame.DataFrame'>\n",
      "RangeIndex: 89611 entries, 0 to 89610\n",
      "Data columns (total 6 columns):\n",
      " #   Column   Non-Null Count  Dtype \n",
      "---  ------   --------------  ----- \n",
      " 0   name     89611 non-null  object\n",
      " 1   artist   89602 non-null  object\n",
      " 2   setCode  89611 non-null  object\n",
      " 3   rarity   89611 non-null  object\n",
      " 4   type     89611 non-null  object\n",
      " 5   uuid     89611 non-null  object\n",
      "dtypes: object(6)\n",
      "memory usage: 4.1+ MB\n",
      "  cardFinish currency        date gameAvailability  price priceProvider  \\\n",
      "0     normal      USD  2024-02-13             mtgo   0.07   cardhoarder   \n",
      "1     normal      USD  2024-02-13             mtgo   0.18   cardhoarder   \n",
      "2     normal      USD  2024-02-13             mtgo   0.02   cardhoarder   \n",
      "3     normal      USD  2024-02-13             mtgo   0.07   cardhoarder   \n",
      "4     normal      USD  2024-02-13             mtgo   0.02   cardhoarder   \n",
      "5     normal      USD  2024-02-13             mtgo   0.02   cardhoarder   \n",
      "6     normal      USD  2024-02-13             mtgo   0.02   cardhoarder   \n",
      "7     normal      USD  2024-02-13             mtgo   0.02   cardhoarder   \n",
      "8     normal      USD  2024-02-13             mtgo   0.12   cardhoarder   \n",
      "9     normal      USD  2024-02-13             mtgo   0.02   cardhoarder   \n",
      "\n",
      "  providerListing                                  uuid  \n",
      "0          retail  f182e364-0439-5594-a6e6-75f7889ccf45  \n",
      "1          retail  330deaa3-dd7a-52a8-bfbc-b323cd16a409  \n",
      "2          retail  79e36956-b91f-580f-8309-7d9585a67560  \n",
      "3          retail  6afb2b4c-530a-57d5-8e7f-871239f6fa05  \n",
      "4          retail  b1fc2762-92aa-5a14-8509-a59cb611e376  \n",
      "5          retail  1752875e-efd2-55fb-a43b-0ddfa14fdb38  \n",
      "6          retail  67693fce-61a9-5bc6-87f5-3dfd8ed5028a  \n",
      "7          retail  4d3c8445-272a-53f4-adf5-c4e14d54d820  \n",
      "8          retail  6a90b49f-5899-502d-8c43-3ae782078d94  \n",
      "9          retail  588d3c30-ed5b-5d1b-b69a-d26f236f1eb5  \n",
      "                 artist                             artistIds asciiName  \\\n",
      "0          Pete Venters  d54c4a1a-c0c5-4834-84db-125d341f3ad8       NaN   \n",
      "1          Pete Venters  d54c4a1a-c0c5-4834-84db-125d341f3ad8       NaN   \n",
      "2           Volkan Baǵa  93bec3c0-0260-4d31-8064-5d01efb4153f       NaN   \n",
      "3           Volkan Baǵa  93bec3c0-0260-4d31-8064-5d01efb4153f       NaN   \n",
      "4              Mark Zug  48e2b98c-5467-4671-bd42-4c3746115117       NaN   \n",
      "5              Mark Zug  48e2b98c-5467-4671-bd42-4c3746115117       NaN   \n",
      "6            Jim Murray  1c906f9b-5bbe-4643-8f5c-90eb1c7f0c43       NaN   \n",
      "7             John Avon  798f3932-30e0-4420-aa3f-db4d613f89ca       NaN   \n",
      "8             John Avon  798f3932-30e0-4420-aa3f-db4d613f89ca       NaN   \n",
      "9  D. Alexander Gregory  38433e15-f0f5-4223-a985-2d13c4aa0922       NaN   \n",
      "\n",
      "  attractionLights availability boosterTypes borderColor cardParts  \\\n",
      "0              NaN  mtgo, paper      default       black       NaN   \n",
      "1              NaN  mtgo, paper      default       black       NaN   \n",
      "2              NaN  mtgo, paper      default       black       NaN   \n",
      "3              NaN  mtgo, paper      default       black       NaN   \n",
      "4              NaN  mtgo, paper      default       black       NaN   \n",
      "5              NaN  mtgo, paper      default       black       NaN   \n",
      "6              NaN  mtgo, paper      default       black       NaN   \n",
      "7              NaN  mtgo, paper      default       black       NaN   \n",
      "8              NaN  mtgo, paper      default       black       NaN   \n",
      "9              NaN  mtgo, paper      default       black       NaN   \n",
      "\n",
      "  colorIdentity colorIndicator  \n",
      "0             W            NaN  \n",
      "1             W            NaN  \n",
      "2             W            NaN  \n",
      "3             W            NaN  \n",
      "4             W            NaN  \n",
      "5             W            NaN  \n",
      "6             W            NaN  \n",
      "7             W            NaN  \n",
      "8             W            NaN  \n",
      "9             W            NaN  \n"
     ]
    },
    {
     "data": {
      "image/png": "[encoded data removed]",
      "text/plain": [
       "<Figure size 640x480 with 1 Axes>"
      ]
     },
     "metadata": {},
     "output_type": "display_data"
    },
    {
     "data": {
      "text/plain": [
       "name\n",
       "Black Lotus                       357552.58\n",
       "Timetwister                       100975.23\n",
       "Mox Emerald                        98192.51\n",
       "Mox Jet                            95706.48\n",
       "Mox Sapphire                       88274.14\n",
       "                                    ...    \n",
       "Murderous Redcap Avatar                0.02\n",
       "Higure, the Still Wind Avatar          0.02\n",
       "Akroma, Angel of Wrath Avatar          0.02\n",
       "Arcanis, the Omnipotent Avatar         0.02\n",
       "Figure of Destiny Avatar               0.02\n",
       "Name: price, Length: 27689, dtype: float64"
      ]
     },
     "execution_count": 35,
     "metadata": {},
     "output_type": "execute_result"
    }
   ],
   "source": [
    "# Get a feel for the current data\n",
    "df_prices.info()\n",
    "df_cards.info()\n",
    "\n",
    "filtered_cards.info()\n",
    "\n",
    "print(df_prices.iloc[:10,:10])\n",
    "print(df_cards.iloc[:10,:10])\n",
    "df_cards.shape\n",
    "\n",
    "\n",
    "# Generating the sum of all card prices and grouping them by artist. \n",
    "artVal = df_comb.groupby(['artist']).price.sum().sort_values(ascending=False)\n",
    "\n",
    "# Generate a plot based on the top 5 with the highest combined sum\n",
    "plt.bar(artVal[:5].index, artVal[:5].values)\n",
    "plt.xticks(rotation=45)\n",
    "plt.show()\n",
    "\n",
    "df_comb.groupby(['name']).price.sum().sort_values(ascending=False)"
   ]
  },
  {
   "cell_type": "markdown",
   "metadata": {
    "id": "vQ9cAwRSEoQj"
   },
   "source": [
    "**Machine Learning Prep:**"
   ]
  },
  {
   "cell_type": "code",
   "execution_count": null,
   "metadata": {
    "id": "kk1TdEZdEoQl"
   },
   "outputs": [],
   "source": []
  }
 ],
 "metadata": {
  "colab": {
   "provenance": []
  },
  "kernelspec": {
   "display_name": "Python 3 (ipykernel)",
   "language": "python",
   "name": "python3"
  },
  "language_info": {
   "codemirror_mode": {
    "name": "ipython",
    "version": 3
   },
   "file_extension": ".py",
   "mimetype": "text/x-python",
   "name": "python",
   "nbconvert_exporter": "python",
   "pygments_lexer": "ipython3",
   "version": "3.9.13"
  }
 },
 "nbformat": 4,
 "nbformat_minor": 1
}
